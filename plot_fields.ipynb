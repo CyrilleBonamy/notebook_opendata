{
 "cells": [
  {
   "cell_type": "code",
   "execution_count": null,
   "metadata": {
    "collapsed": false,
    "deletable": true,
    "editable": true
   },
   "outputs": [],
   "source": [
    "from func_plot_fields import plot_field\n",
    "\n",
    "plot_field()"
   ]
  },
  {
   "cell_type": "code",
   "execution_count": null,
   "metadata": {
    "collapsed": true
   },
   "outputs": [],
   "source": []
  },
  {
   "cell_type": "code",
   "execution_count": null,
   "metadata": {
    "collapsed": true
   },
   "outputs": [],
   "source": []
  }
 ],
 "metadata": {
  "kernelspec": {
   "display_name": "Python 3",
   "language": "python",
   "name": "python3"
  },
  "language_info": {
   "codemirror_mode": {
    "name": "ipython",
    "version": 3
   },
   "file_extension": ".py",
   "mimetype": "text/x-python",
   "name": "python",
   "nbconvert_exporter": "python",
   "pygments_lexer": "ipython3",
   "version": "3.6.0"
  },
  "widgets": {
   "state": {
    "00a993fb57a049d5b203716aa5aedfed": {
     "views": [
      {
       "cell_index": 0
      }
     ]
    },
    "07113fd8e0404b95a4cfb1b5a2a7c5e6": {
     "views": [
      {
       "cell_index": 0
      }
     ]
    },
    "0cd9450e484748c98bac6727b567efca": {
     "views": [
      {
       "cell_index": 0
      }
     ]
    },
    "0dd496bec5774a11bcaca9ca8185ac90": {
     "views": [
      {
       "cell_index": 0
      }
     ]
    },
    "126767555bb340fc9a192e3232d8fc89": {
     "views": [
      {
       "cell_index": 0
      }
     ]
    },
    "12c2a2a211b340f99eeca5b8dbd31cc6": {
     "views": [
      {
       "cell_index": 0
      }
     ]
    },
    "13af174cdced4e03bd351e27d0188f3e": {
     "views": [
      {
       "cell_index": 0
      }
     ]
    },
    "1412effc1d2c4d6184aa5fd4eef44b81": {
     "views": [
      {
       "cell_index": 0
      }
     ]
    },
    "14b3bd9ca56b4e4cac661f8ba2469a6c": {
     "views": [
      {
       "cell_index": 0
      }
     ]
    },
    "1662a0ee868e4549a48bbb179a04432d": {
     "views": [
      {
       "cell_index": 0
      }
     ]
    },
    "16cd65a2921343fb8b116398ff0c4f63": {
     "views": [
      {
       "cell_index": 0
      }
     ]
    },
    "17f7b2bfce1546118d5d707178c48220": {
     "views": [
      {
       "cell_index": 0
      }
     ]
    },
    "1840829cd5764d05b36d77da246290f1": {
     "views": [
      {
       "cell_index": 0
      }
     ]
    },
    "1865becec96f4376968261a8dcae803b": {
     "views": [
      {
       "cell_index": 0
      }
     ]
    },
    "19c3f1f7103e487e85d69c1652e06da4": {
     "views": [
      {
       "cell_index": 0
      }
     ]
    },
    "1a91b513978140519bf50faf06f605f8": {
     "views": [
      {
       "cell_index": 0
      }
     ]
    },
    "1f38897452c4416b8a62bced2469416e": {
     "views": [
      {
       "cell_index": 0
      }
     ]
    },
    "205322bc12374753a22b56b0369beb6e": {
     "views": [
      {
       "cell_index": 0
      }
     ]
    },
    "24b79f6ee56544569837ea56eb59c56f": {
     "views": [
      {
       "cell_index": 0
      }
     ]
    },
    "25e4ba27a1ae40f18f8357ecdfea2c83": {
     "views": [
      {
       "cell_index": 0
      }
     ]
    },
    "26fdb420bb2845ac8d1e281f13e8c457": {
     "views": [
      {
       "cell_index": 0
      }
     ]
    },
    "2770a6ce74554ab48c67662841f7eaf3": {
     "views": [
      {
       "cell_index": 0
      }
     ]
    },
    "2a71a0efe50545b0ae0a3b585b513942": {
     "views": [
      {
       "cell_index": 0
      }
     ]
    },
    "2aef8dabe61b48c09f337631521207d0": {
     "views": [
      {
       "cell_index": 0
      }
     ]
    },
    "2b426d427cd44da09942a5162b48cdab": {
     "views": [
      {
       "cell_index": 0
      }
     ]
    },
    "2be50367c82d47daa1ec454669fa0f0a": {
     "views": [
      {
       "cell_index": 0
      }
     ]
    },
    "2cf76495e2ec475aaad08c488d28d2e5": {
     "views": [
      {
       "cell_index": 0
      }
     ]
    },
    "2e3b697365cd4a4daa3a84336e5085d1": {
     "views": [
      {
       "cell_index": 0
      }
     ]
    },
    "2ec0e29a054a49d88e4df9996e46fecd": {
     "views": [
      {
       "cell_index": 0
      }
     ]
    },
    "31387510bd264cbbb759b0bb4e48c195": {
     "views": [
      {
       "cell_index": 0
      }
     ]
    },
    "32f3997e6ae04ce1b94f6efee25b6b3f": {
     "views": [
      {
       "cell_index": 0
      }
     ]
    },
    "33f69ee11c824a74853f3f545090f932": {
     "views": [
      {
       "cell_index": 0
      }
     ]
    },
    "396199bc6a6243a5b78c40aacc96b10e": {
     "views": [
      {
       "cell_index": 0
      }
     ]
    },
    "3b77742effb8447ba7c6015a890077ea": {
     "views": [
      {
       "cell_index": 0
      }
     ]
    },
    "3c09e5dd2ebd4cc0b7fae91a6d485dd1": {
     "views": [
      {
       "cell_index": 0
      }
     ]
    },
    "3c3eef9f878f4c92bac6bd9a79c41c73": {
     "views": [
      {
       "cell_index": 0
      }
     ]
    },
    "3cfc6d9e1ba540adb2d22ebc2a08fef3": {
     "views": [
      {
       "cell_index": 0
      }
     ]
    },
    "3eab11c9c51a4f52a0e9992f0efe6ca9": {
     "views": [
      {
       "cell_index": 0
      }
     ]
    },
    "3ee7a1d5a09c4b61bd49a1247521a6f2": {
     "views": [
      {
       "cell_index": 0
      }
     ]
    },
    "3f637885140b4ebcacbe683587128f62": {
     "views": [
      {
       "cell_index": 0
      }
     ]
    },
    "405b5a06aef84116afab81182827d269": {
     "views": [
      {
       "cell_index": 0
      }
     ]
    },
    "408ff03efc9944439c3b0bc48dc560c8": {
     "views": [
      {
       "cell_index": 0
      }
     ]
    },
    "431422436be4483fa77f506c82d0fcf1": {
     "views": [
      {
       "cell_index": 0
      }
     ]
    },
    "46573b7509cb4a878f37773a52e4b7f2": {
     "views": [
      {
       "cell_index": 0
      }
     ]
    },
    "46a9f9c43450401e81f759c3415653b8": {
     "views": [
      {
       "cell_index": 0
      }
     ]
    },
    "48c2383d4b6243c2a5877826dd5a7a66": {
     "views": [
      {
       "cell_index": 0
      }
     ]
    },
    "4959c733a59248c3aca3be49b24b7d28": {
     "views": [
      {
       "cell_index": 0
      }
     ]
    },
    "4afc3530ad694f4680c8de91bead4d38": {
     "views": [
      {
       "cell_index": 0
      }
     ]
    },
    "4f3e12bb70074730ace415ca23b5aed1": {
     "views": [
      {
       "cell_index": 0
      }
     ]
    },
    "508a1bca0af84c5991e11e0b658482ad": {
     "views": [
      {
       "cell_index": 0
      }
     ]
    },
    "509e0c4747e54ff4acf50b789218ee05": {
     "views": [
      {
       "cell_index": 0
      }
     ]
    },
    "50ac2b3399e1400cb98c10f76a39fa65": {
     "views": [
      {
       "cell_index": 0
      }
     ]
    },
    "514c31c6505f4167bfeeb9f33e730793": {
     "views": [
      {
       "cell_index": 0
      }
     ]
    },
    "540d79c2e6e84cde922b4c97edc92cc5": {
     "views": [
      {
       "cell_index": 0
      }
     ]
    },
    "5601896f191943f196a8ed0022a281ac": {
     "views": [
      {
       "cell_index": 0
      }
     ]
    },
    "565b593deebf4d14ad07b79278f0b099": {
     "views": [
      {
       "cell_index": 0
      },
      {
       "cell_index": 0
      },
      {
       "cell_index": 0
      }
     ]
    },
    "575064aee51348b5915602315fb173e5": {
     "views": [
      {
       "cell_index": 0
      }
     ]
    },
    "57b16e5bab204deeb9e5b787713cf5a9": {
     "views": [
      {
       "cell_index": 0
      }
     ]
    },
    "584b59fe4d284ac396aeaa5b64fffae2": {
     "views": [
      {
       "cell_index": 0
      }
     ]
    },
    "5cdd939de1e14d54b61a65e3c853c803": {
     "views": [
      {
       "cell_index": 0
      }
     ]
    },
    "5e03d60c1654448f862b2b796ee2909c": {
     "views": [
      {
       "cell_index": 0
      }
     ]
    },
    "5f0ccd1eef80472b80527ce495a2c496": {
     "views": [
      {
       "cell_index": 0
      }
     ]
    },
    "60d9fcbeade046ea9ed9703cc76e360d": {
     "views": [
      {
       "cell_index": 0
      }
     ]
    },
    "63e1202deed740088a8bc2a6af9fcac7": {
     "views": [
      {
       "cell_index": 0
      }
     ]
    },
    "66868b7be10742078647fbc7c0ec08ad": {
     "views": [
      {
       "cell_index": 0
      }
     ]
    },
    "67891b40f7d44b06b11cffda7b0ae4d5": {
     "views": [
      {
       "cell_index": 0
      }
     ]
    },
    "681a3ef692ed45f8967cfd2766b9fa82": {
     "views": [
      {
       "cell_index": 0
      },
      {
       "cell_index": 0
      }
     ]
    },
    "6c1689d6bc6945298305a8a7c71414f0": {
     "views": [
      {
       "cell_index": 0
      }
     ]
    },
    "6d693c663d4848b8aa52d6a75ead5549": {
     "views": [
      {
       "cell_index": 0
      }
     ]
    },
    "6f864cd69d5d48fc9022125e25808146": {
     "views": [
      {
       "cell_index": 0
      }
     ]
    },
    "70db90c1313e4fe0adb887100ec68e0a": {
     "views": [
      {
       "cell_index": 0
      }
     ]
    },
    "71f31c6a4b8346b4bbba93d4c28c225c": {
     "views": [
      {
       "cell_index": 0
      }
     ]
    },
    "74d0ad7534824a828542598162203b64": {
     "views": [
      {
       "cell_index": 0
      }
     ]
    },
    "78a1ea7a14d14e3395b6307e9665ac61": {
     "views": [
      {
       "cell_index": 0
      }
     ]
    },
    "79e8bb59788a40c48691f9c839d94b39": {
     "views": [
      {
       "cell_index": 0
      }
     ]
    },
    "7a2bbc9c3bde4491bd23672d4599775b": {
     "views": [
      {
       "cell_index": 0
      }
     ]
    },
    "7fca2fc1994d459ba7086fcce75fb92c": {
     "views": [
      {
       "cell_index": 0
      }
     ]
    },
    "811f411b1cdf46219fc3101a3c39fde5": {
     "views": [
      {
       "cell_index": 0
      }
     ]
    },
    "826bc712d75944a38dc89585925d1725": {
     "views": [
      {
       "cell_index": 0
      }
     ]
    },
    "84301162fb544335b3181c37fc51b8ab": {
     "views": [
      {
       "cell_index": 0
      }
     ]
    },
    "858ce5a05af944b48f06964793bb2711": {
     "views": [
      {
       "cell_index": 0
      }
     ]
    },
    "85bfc35cd0a84e96ac5da4e041e380d5": {
     "views": [
      {
       "cell_index": 0
      }
     ]
    },
    "8710c085141949e9976070b36fb78d75": {
     "views": [
      {
       "cell_index": 0
      }
     ]
    },
    "89410c17b27a4a37afb0792e12a98186": {
     "views": [
      {
       "cell_index": 0
      }
     ]
    },
    "8aeaac6d9ff5465bb8c9c4191c18010d": {
     "views": [
      {
       "cell_index": 0
      }
     ]
    },
    "8be42c249f82491f9e5e5e96938cabc3": {
     "views": [
      {
       "cell_index": 0
      }
     ]
    },
    "8d3b603965284f81b9d70d986c960e13": {
     "views": [
      {
       "cell_index": 0
      }
     ]
    },
    "8d58ac3061f74580ad812b9cde65d4a2": {
     "views": [
      {
       "cell_index": 0
      }
     ]
    },
    "8ea9effc1af348799cb277bfa064cb0a": {
     "views": [
      {
       "cell_index": 0
      }
     ]
    },
    "8f36e5df26054265b6b16064d94b4dae": {
     "views": [
      {
       "cell_index": 0
      }
     ]
    },
    "8f45ef2ab0854e81a2056a5813f620d9": {
     "views": [
      {
       "cell_index": 0
      }
     ]
    },
    "900837bd0fe3444688d2d620d15bb2b3": {
     "views": [
      {
       "cell_index": 0
      }
     ]
    },
    "91147af5a87b4cf7a91a88b36d20bee2": {
     "views": [
      {
       "cell_index": 0
      }
     ]
    },
    "9320ae4a9d6141d692d922293f7b679d": {
     "views": [
      {
       "cell_index": 0
      },
      {
       "cell_index": 0
      }
     ]
    },
    "94bf855ab0a44358a65eb81c75811d3d": {
     "views": [
      {
       "cell_index": 0
      }
     ]
    },
    "954e0e5c5dee46f481c80f49d679db7c": {
     "views": [
      {
       "cell_index": 0
      }
     ]
    },
    "955904a8f7ec4ecba2dffb8239299b04": {
     "views": [
      {
       "cell_index": 0
      }
     ]
    },
    "984f08ea6ab24971b72bcedd23eda3ef": {
     "views": [
      {
       "cell_index": 0
      }
     ]
    },
    "9b4fb044cbc0430193daa498935ec613": {
     "views": [
      {
       "cell_index": 0
      }
     ]
    },
    "9d4c04942d3d46c2b5af9a69db94685a": {
     "views": [
      {
       "cell_index": 0
      }
     ]
    },
    "9ed89a39f45043dcb90fbdb9affead7c": {
     "views": [
      {
       "cell_index": 0
      }
     ]
    },
    "a0388097bed040deb064f88ab59c5baf": {
     "views": [
      {
       "cell_index": 0
      }
     ]
    },
    "a16449faf0f84f30b952a520b1a5e3a3": {
     "views": [
      {
       "cell_index": 0
      }
     ]
    },
    "a29d9e6f149541c199a4c8d5201b8cd0": {
     "views": [
      {
       "cell_index": 0
      }
     ]
    },
    "a3736e0d944945f296e98bdaa17195aa": {
     "views": [
      {
       "cell_index": 0
      }
     ]
    },
    "a3cfb1eb07c04a7eab3aff6c27fea467": {
     "views": [
      {
       "cell_index": 0
      },
      {
       "cell_index": 0
      },
      {
       "cell_index": 0
      }
     ]
    },
    "a3f7de151d214c4dbb058b60bc9d97d8": {
     "views": [
      {
       "cell_index": 0
      }
     ]
    },
    "a406a057951a4fd3a539e8c4a04d3693": {
     "views": [
      {
       "cell_index": 0
      }
     ]
    },
    "a45c2965397444279e469036dcea8e61": {
     "views": [
      {
       "cell_index": 0
      }
     ]
    },
    "a52a999a8f1749d69cd02549d95f16b9": {
     "views": [
      {
       "cell_index": 0
      }
     ]
    },
    "a5ec7b5410b1484fa1fbd9af622ecaeb": {
     "views": [
      {
       "cell_index": 0
      }
     ]
    },
    "a641876b192845c59495bfa1900aa74f": {
     "views": [
      {
       "cell_index": 0
      }
     ]
    },
    "a737a5849949439f962b1d8e95812a8d": {
     "views": [
      {
       "cell_index": 0
      }
     ]
    },
    "a7bc048bf5b84acfa5c323b22e15c547": {
     "views": [
      {
       "cell_index": 0
      }
     ]
    },
    "a854bc1c4fe546a8a48bebc37571a0e5": {
     "views": [
      {
       "cell_index": 0
      }
     ]
    },
    "ac72723d8c1a4dd5b0b9896d517d74de": {
     "views": [
      {
       "cell_index": 0
      }
     ]
    },
    "ad2c9697392b49fcaf4dd82666213f03": {
     "views": [
      {
       "cell_index": 0
      }
     ]
    },
    "adeef32e979a4e3c9d072e92825809d7": {
     "views": [
      {
       "cell_index": 0
      }
     ]
    },
    "ae689be9cba74c208e9f869b1431f864": {
     "views": [
      {
       "cell_index": 0
      }
     ]
    },
    "ae74ff55d145474ea480c152279e01ff": {
     "views": [
      {
       "cell_index": 0
      }
     ]
    },
    "af02b6e2b59c47cbba25476f612c156c": {
     "views": [
      {
       "cell_index": 0
      }
     ]
    },
    "af0570cc43cb4e3ba2f7c8fd1e89010a": {
     "views": [
      {
       "cell_index": 0
      }
     ]
    },
    "afa7539ba114463cabbc4761c068f2a8": {
     "views": [
      {
       "cell_index": 0
      }
     ]
    },
    "b1e09cd9bfb74927af4f575a044747fa": {
     "views": [
      {
       "cell_index": 0
      }
     ]
    },
    "b231537b44494638ab1267c93ea79a2e": {
     "views": [
      {
       "cell_index": 0
      }
     ]
    },
    "b5a7b15ba5834e1b8b2bd8668f1a44f3": {
     "views": [
      {
       "cell_index": 0
      }
     ]
    },
    "b5ce526f9a464ebe876c771ea6b1618e": {
     "views": [
      {
       "cell_index": 0
      }
     ]
    },
    "b8af0b884d8f418a9a5a0272de6dad50": {
     "views": [
      {
       "cell_index": 0
      }
     ]
    },
    "ba5268ad1ede42e6beeb13c35623e890": {
     "views": [
      {
       "cell_index": 0
      }
     ]
    },
    "baa29042ed70461f98bd5d95797e7a01": {
     "views": [
      {
       "cell_index": 0
      }
     ]
    },
    "bba70432510b46e585ce369c7de9df8d": {
     "views": [
      {
       "cell_index": 0
      }
     ]
    },
    "bc25973f77d845efa8a3fcd760f8edc9": {
     "views": [
      {
       "cell_index": 0
      }
     ]
    },
    "bd1232d2e0e045e0949b5bb1ba10f301": {
     "views": [
      {
       "cell_index": 0
      }
     ]
    },
    "bd3355fb08ef471bac2451c4fc699570": {
     "views": [
      {
       "cell_index": 0
      }
     ]
    },
    "be427d5fa613498f809130374e45e11c": {
     "views": [
      {
       "cell_index": 0
      }
     ]
    },
    "c340d340771547cba69c5d55be292c47": {
     "views": [
      {
       "cell_index": 0
      }
     ]
    },
    "c34e8cac1b5b448eb7e2675a5f021a19": {
     "views": [
      {
       "cell_index": 0
      }
     ]
    },
    "c3b5954e197a48f1af96345106df357c": {
     "views": [
      {
       "cell_index": 0
      }
     ]
    },
    "c63eb69486724ac99ee705621e9f5121": {
     "views": [
      {
       "cell_index": 0
      }
     ]
    },
    "c6e3fcec4f664d94847fa29f2668a18a": {
     "views": [
      {
       "cell_index": 0
      }
     ]
    },
    "c969e0a384364192aaf47061a1cf5020": {
     "views": [
      {
       "cell_index": 0
      }
     ]
    },
    "ca31903121514d95ae08e8047445cdb1": {
     "views": [
      {
       "cell_index": 0
      }
     ]
    },
    "ce5d771855e24c04b1e9d4cd9345a3c6": {
     "views": [
      {
       "cell_index": 0
      }
     ]
    },
    "cf3f2cc975174dbeb881794218528c6d": {
     "views": [
      {
       "cell_index": 0
      }
     ]
    },
    "d240c02e3cd64bfdbda12a2df56cff11": {
     "views": [
      {
       "cell_index": 0
      }
     ]
    },
    "d30879671027465a838d54558d03a1c3": {
     "views": [
      {
       "cell_index": 0
      },
      {
       "cell_index": 0
      },
      {
       "cell_index": 0
      }
     ]
    },
    "d67e6ae5e32d46c3bf2819465a9fa06f": {
     "views": [
      {
       "cell_index": 0
      }
     ]
    },
    "d7b393c96aec43f2bd41352f36d4a115": {
     "views": [
      {
       "cell_index": 0
      }
     ]
    },
    "d878de66b4724b97b7904ceb6c3792a8": {
     "views": [
      {
       "cell_index": 0
      }
     ]
    },
    "d8831ef349c945669141a5bf817fc53b": {
     "views": [
      {
       "cell_index": 0
      }
     ]
    },
    "dc4c89f6d1924b60bebaf7e64ba5ce78": {
     "views": [
      {
       "cell_index": 0
      }
     ]
    },
    "dda83645972f45b1956a578af0373821": {
     "views": [
      {
       "cell_index": 0
      }
     ]
    },
    "ddca57ae69a44286918939847f6431bc": {
     "views": [
      {
       "cell_index": 0
      }
     ]
    },
    "de63613d711945329031d9b52969b476": {
     "views": [
      {
       "cell_index": 0
      }
     ]
    },
    "dfbdbd002dc141b9add137bbdc44e133": {
     "views": [
      {
       "cell_index": 0
      }
     ]
    },
    "e0150eaed4bb42539e3d0c4b837d86ab": {
     "views": [
      {
       "cell_index": 0
      }
     ]
    },
    "e148f12eabe04a309ff6ff9f1806c180": {
     "views": [
      {
       "cell_index": 0
      }
     ]
    },
    "e312c679980b41b89dec3fbbe409f7d0": {
     "views": [
      {
       "cell_index": 0
      }
     ]
    },
    "e3871ef9f0d648d3bb0880737a5d5944": {
     "views": [
      {
       "cell_index": 0
      }
     ]
    },
    "eb1e097800ee486890f70fe4d3338ce2": {
     "views": [
      {
       "cell_index": 0
      },
      {
       "cell_index": 0
      },
      {
       "cell_index": 0
      }
     ]
    },
    "eec9974b5558467992331af5f8ab1210": {
     "views": [
      {
       "cell_index": 0
      }
     ]
    },
    "ef5c5288ce3f4624b3d394d2d3f90c4f": {
     "views": [
      {
       "cell_index": 0
      }
     ]
    },
    "f0fe673e491849c79d7f892f1bd41c64": {
     "views": [
      {
       "cell_index": 0
      }
     ]
    },
    "f161967fd3184885a2d73cd9f3d2f91f": {
     "views": [
      {
       "cell_index": 0
      }
     ]
    },
    "f40a7441f42444118966d7d61d96761d": {
     "views": [
      {
       "cell_index": 0
      }
     ]
    },
    "f561d99c55524bc5aed986e46da2de4d": {
     "views": [
      {
       "cell_index": 0
      }
     ]
    },
    "f7937e013bdb4e8eb4e8ee9023272468": {
     "views": [
      {
       "cell_index": 0
      }
     ]
    },
    "f89b37170bc74d018d12e9595ce7d8b6": {
     "views": [
      {
       "cell_index": 0
      }
     ]
    },
    "fb732eb503f04da581719680c626d41d": {
     "views": [
      {
       "cell_index": 0
      }
     ]
    },
    "fc8ac16d3c644eb08f1c519bf688a338": {
     "views": [
      {
       "cell_index": 0
      }
     ]
    },
    "fe211ad6b4e341dcb3c94ec454ee57d4": {
     "views": [
      {
       "cell_index": 0
      }
     ]
    }
   },
   "version": "1.2.0"
  }
 },
 "nbformat": 4,
 "nbformat_minor": 2
}
