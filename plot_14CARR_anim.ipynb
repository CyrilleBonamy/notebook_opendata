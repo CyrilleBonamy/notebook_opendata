{
 "cells": [
  {
   "cell_type": "markdown",
   "metadata": {},
   "source": [
    "# Python script to plot data from 14CARR"
   ]
  },
  {
   "cell_type": "code",
   "execution_count": null,
   "metadata": {
    "collapsed": true
   },
   "outputs": [],
   "source": [
    "import matplotlib\n",
    "import numpy as np\n",
    "from netCDF4 import Dataset\n",
    "from __future__ import print_function\n",
    "import ipywidgets as widget\n",
    "from IPython.display import display\n",
    "from matplotlib import animation, rc\n",
    "from IPython.display import HTML\n",
    "from lxml import etree\n",
    "import requests"
   ]
  },
  {
   "cell_type": "code",
   "execution_count": null,
   "metadata": {
    "collapsed": true
   },
   "outputs": [],
   "source": [
    "%matplotlib notebook"
   ]
  },
  {
   "cell_type": "code",
   "execution_count": null,
   "metadata": {
    "collapsed": true
   },
   "outputs": [],
   "source": [
    "def animate(i):\n",
    "    print('Loading frame ' + str(i + 1) + '/' + str(frames))\n",
    "    if variable_glob == 'norm':\n",
    "        norm = np.sqrt(rootgrp[i].variables['U'][:, :]**2 +\n",
    "                       rootgrp[i].variables['V'][:, :]**2)\n",
    "        mycontour = matplotlib.pyplot.contourf(norm, 50, cmap=contourcolor)\n",
    "    else:\n",
    "        varplot = rootgrp[i].variables[variable_glob][:, :]\n",
    "        mycontour = matplotlib.pyplot.contourf(varplot, 50, cmap=contourcolor)\n",
    "    if vector_glob:\n",
    "        matplotlib.pyplot.quiver(x, y, rootgrp[i].variables['u'][:, :],\n",
    "                   rootgrp[i].variables['v'][:, :])\n",
    "    return mycontour"
   ]
  },
  {
   "cell_type": "code",
   "execution_count": null,
   "metadata": {
    "collapsed": false
   },
   "outputs": [],
   "source": [
    "def g(folder, variable, vector, launch):\n",
    "    url_base = 'http://servdap.legi.grenoble-inp.fr:80/opendap/coriolis/14CARR/ESTUARY3_160714/' + folder + '/'\n",
    "    catalog_file = requests.get(url_base + 'Dalsa2.civ4.mproj/catalog.xml')\n",
    "    tree = etree.fromstring(catalog_file.content)\n",
    "\n",
    "    items = 0\n",
    "    for children in tree[2]:\n",
    "        if '.nc' in children.get(\"name\"):\n",
    "            items += 1\n",
    "\n",
    "    if launch:\n",
    "        file_name = []\n",
    "        \n",
    "        # GLobal variables\n",
    "        global rootgrp\n",
    "        global variable_glob\n",
    "        global vector_glob\n",
    "        global x\n",
    "        global y\n",
    "        global contourcolor\n",
    "        global frames\n",
    "        global ani\n",
    "        \n",
    "        vector_glob = vector\n",
    "        variable_glob = variable\n",
    "        rootgrp = []\n",
    "        i = 0\n",
    "        j = 100\n",
    "        \n",
    "        while j <= 130:\n",
    "            print('Reading file ' + str(j) + '/' + str(items))\n",
    "            file_name.append('/Dalsa2.civ4.mproj/img_' + str(int(j)) + '.nc')\n",
    "            print(url_base + file_name[i])\n",
    "            rootgrp.append(Dataset(url_base + file_name[i]))\n",
    "            j += 1\n",
    "            i += 1\n",
    "        print('All files loaded')\n",
    "        \n",
    "        frames = i\n",
    "        matplotlib.pyplot.clf()   \n",
    "        fig_xsize = 15\n",
    "        fig_ysize = 10\n",
    "        font_size = 25\n",
    "        markersize = 10\n",
    "        fig = matplotlib.pyplot.figure(num=0, figsize=(fig_xsize, fig_ysize), dpi=60,\n",
    "                                       facecolor='w', edgecolor='w')\n",
    "        matplotlib.pyplot.rcParams.update({'font.size': font_size})\n",
    "        matplotlib.pyplot.rcParams['lines.markersize'] = 10\n",
    "        xaxis_name = 'i'\n",
    "        yaxis_name = 'j'\n",
    "        xlin = np.linspace(0, 0.1, 50)\n",
    "        x, y = np.meshgrid(xlin, xlin)\n",
    "        contourcolor = matplotlib.pyplot.cm.coolwarm\n",
    "        mycontour = matplotlib.pyplot.contourf(np.empty([200, 200]), 50, cmap=contourcolor)\n",
    "        ani = animation.FuncAnimation(fig, animate, frames=i, interval=1, blit=False)\n",
    "        cbar = matplotlib.pyplot.colorbar(mycontour)\n",
    "        cbar.ax.set_ylabel('Velocity (m/s)')\n",
    "        matplotlib.pyplot.gca().set_aspect('equal')\n",
    "        matplotlib.pyplot.xlabel(xaxis_name)\n",
    "        matplotlib.pyplot.ylabel(yaxis_name)"
   ]
  },
  {
   "cell_type": "code",
   "execution_count": null,
   "metadata": {
    "collapsed": false
   },
   "outputs": [],
   "source": [
    "base_url = 'http://servdap.legi.grenoble-inp.fr:80/opendap/coriolis/14CARR/ESTUARY3_160714/'\n",
    "catalog_file = requests.get(base_url + 'catalog.xml')\n",
    "tree = etree.fromstring(catalog_file.content)\n",
    "folders = []\n",
    "for children in tree[2]:\n",
    "    if not '.' in children.get('name'):\n",
    "        folders.append(r'' + children.get('name'))\n",
    "\n",
    "widget.interactive(g, \n",
    "                   folder=widget.Select(options=folders,\n",
    "                                        value='ESTUARY3a',\n",
    "                                        description='Folder : '\n",
    "                                        ),\n",
    "                   variable=widget.Select(options=['U', 'V', 'norm'],\n",
    "                                          description='Select a variable to plot'\n",
    "                                        ),\n",
    "                   vector=widget.Checkbox(value=False,\n",
    "                                          description='Display vectors'\n",
    "                                         ),\n",
    "                   launch=widget.ToggleButton(value=False,\n",
    "                                              description= 'Load files'\n",
    "                                             )\n",
    "                   )"
   ]
  },
  {
   "cell_type": "code",
   "execution_count": null,
   "metadata": {
    "collapsed": false
   },
   "outputs": [],
   "source": [
    "HTML(ani.to_jshtml())"
   ]
  },
  {
   "cell_type": "code",
   "execution_count": null,
   "metadata": {
    "collapsed": true
   },
   "outputs": [],
   "source": []
  }
 ],
 "metadata": {
  "kernelspec": {
   "display_name": "Python 3",
   "language": "python",
   "name": "python3"
  },
  "language_info": {
   "codemirror_mode": {
    "name": "ipython",
    "version": 3
   },
   "file_extension": ".py",
   "mimetype": "text/x-python",
   "name": "python",
   "nbconvert_exporter": "python",
   "pygments_lexer": "ipython3",
   "version": "3.5.1"
  },
  "widgets": {
   "state": {
    "d8854616ac7744b78546e5a5320a14d1": {
     "views": [
      {
       "cell_index": 5
      }
     ]
    }
   },
   "version": "1.2.0"
  }
 },
 "nbformat": 4,
 "nbformat_minor": 2
}
