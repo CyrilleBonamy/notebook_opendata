{
 "cells": [
  {
   "cell_type": "code",
   "execution_count": null,
   "metadata": {
    "collapsed": true
   },
   "outputs": [],
   "source": [
    "from netCDF4 import Dataset\n",
    "import requests\n",
    "from lxml import etree\n",
    "import numpy as np\n",
    "import ipywidgets as widgets\n",
    "from IPython.display import display, clear_output\n",
    "import matplotlib.pyplot as plt\n",
    "\n",
    "global base_url\n",
    "global path\n",
    "global select\n",
    "\n",
    "global loadedfiles\n",
    "loadedfiles = [[],[]]"
   ]
  },
  {
   "cell_type": "code",
   "execution_count": null,
   "metadata": {
    "collapsed": false
   },
   "outputs": [],
   "source": [
    "def g(button, variable, vector):\n",
    "    global path\n",
    "    global base_url\n",
    "    global select\n",
    "    \n",
    "    value = select.value\n",
    "    \n",
    "    if value == '.':\n",
    "        path = base_url\n",
    "    elif value.endswith('.nc'):\n",
    "        file = value\n",
    "    else:\n",
    "        path += value + '/'\n",
    "    try:\n",
    "        catalog_file = requests.get(path + 'catalog.xml')\n",
    "        tree = etree.fromstring(catalog_file.content)\n",
    "    except:\n",
    "        path = base_url\n",
    "        catalog_file = requests.get(path + 'catalog.xml')\n",
    "        tree = etree.fromstring(catalog_file.content)\n",
    "        \n",
    "    options = ['.', '..']\n",
    "    \n",
    "    if not value.endswith('.nc'):\n",
    "        for children in tree[2]:\n",
    "            if children.get('ID').endswith('/') or children.get('ID').endswith('.nc'):\n",
    "                options.append(children.get('name'))\n",
    "        select.options = options \n",
    "    \n",
    "    else:\n",
    "        if value in loadedfiles[0]:\n",
    "            rootgrp = loadedfiles[1][loadedfiles[0].index(value)]\n",
    "        else:\n",
    "            rootgrp = Dataset(path + file)\n",
    "            loadedfiles[0].append(file)\n",
    "            loadedfiles[1].append(rootgrp)\n",
    "        \n",
    "        plot_func(variable, rootgrp, vector)\n",
    "        plt.show()\n",
    "        \n",
    "def plot_func(variable, rootgrp, vector):\n",
    "    # Figure size\n",
    "    fig_xsize = 15\n",
    "    fig_ysize = 10\n",
    "    font_size = 25\n",
    "    fig = plt.figure(num=0, figsize=(fig_xsize, fig_ysize), dpi=60,\n",
    "                     facecolor='w', edgecolor='w')\n",
    "    plt.rcParams.update({'font.size': font_size})\n",
    "    plt.gca().set_aspect('equal')\n",
    "    #axis names\n",
    "    xaxis_name = 'i'\n",
    "    yaxis_name = 'j'\n",
    "    plt.xlabel(xaxis_name)\n",
    "    plt.ylabel(yaxis_name)\n",
    "    contourcolor = plt.cm.coolwarm\n",
    "    xlin = np.linspace(0, len(rootgrp.variables['lon'])-1, len(rootgrp.variables['lon']))\n",
    "    x, y = np.meshgrid(xlin, xlin)\n",
    "    if variable == 'norm':\n",
    "        norm = np.sqrt(rootgrp.variables['u'][0, 0, :, :]**2 +\n",
    "                       rootgrp.variables['v'][0, 0, :, :]**2)\n",
    "        mycontour = plt.contourf(norm, 50, cmap=contourcolor)\n",
    "        cbar = plt.colorbar(mycontour)\n",
    "        cbar.ax.set_ylabel('norm (m/s)')\n",
    "    else:\n",
    "        varplot = rootgrp.variables[variable][0, 0, :, :]\n",
    "        mycontour = plt.contourf(varplot, 50, cmap=contourcolor)\n",
    "        cbar = plt.colorbar(mycontour)\n",
    "        cbar.ax.set_ylabel(rootgrp.variables[variable].name +\n",
    "                           \" (\" + rootgrp.variables[variable].units + \")\")\n",
    "    if vector:\n",
    "        plt.quiver(x, y, rootgrp.variables['u'][0, 0, :, :],\n",
    "                   rootgrp.variables['v'][0, 0, :, :])"
   ]
  },
  {
   "cell_type": "code",
   "execution_count": null,
   "metadata": {
    "collapsed": false
   },
   "outputs": [],
   "source": [
    "base_url = 'http://servdap.legi.grenoble-inp.fr:80/opendap/'\n",
    "\n",
    "path = base_url\n",
    "\n",
    "select = widgets.Select(\n",
    "                        options=['.', '..'],\n",
    "                        value='.',\n",
    "                        description='Select a file or folder',\n",
    "                        disabled=False\n",
    "                        )\n",
    "display(select)\n",
    "\n",
    "widgets.interact(g,\n",
    "                 button=widgets.ToggleButton(\n",
    "                                             value=False,\n",
    "                                             description='Select',\n",
    "                                             disabled=False,\n",
    "                                             button_style='', # 'success', 'info', 'warning', 'danger' or ''\n",
    "                                             tooltip='Description'\n",
    "                                             ),\n",
    "                 variable=widgets.ToggleButtons(options=['u', 'v', 'norm'],\n",
    "                                               description='Variable:',\n",
    "                                               disabled=False,\n",
    "                                               button_style='',\n",
    "                                               ),\n",
    "                 vector=widgets.Checkbox(value=False,\n",
    "                                        description='Display vectors',\n",
    "                                        disabled=False\n",
    "                                       ),\n",
    "                )"
   ]
  },
  {
   "cell_type": "code",
   "execution_count": null,
   "metadata": {
    "collapsed": true
   },
   "outputs": [],
   "source": []
  }
 ],
 "metadata": {
  "kernelspec": {
   "display_name": "Python 3",
   "language": "python",
   "name": "python3"
  },
  "language_info": {
   "codemirror_mode": {
    "name": "ipython",
    "version": 3
   },
   "file_extension": ".py",
   "mimetype": "text/x-python",
   "name": "python",
   "nbconvert_exporter": "python",
   "pygments_lexer": "ipython3",
   "version": "3.6.0"
  },
  "widgets": {
   "state": {
    "18ebff089691434aafffaac32c5b092e": {
     "views": [
      {
       "cell_index": 2
      }
     ]
    },
    "1b4c400b2263440aa263c189337d6fb5": {
     "views": [
      {
       "cell_index": 2
      }
     ]
    },
    "2830ff5c26ac4991a468a949c58091b9": {
     "views": [
      {
       "cell_index": 2
      }
     ]
    },
    "2977bbae9c4548a299e1f082e15d8214": {
     "views": [
      {
       "cell_index": 2
      }
     ]
    },
    "29ff689a30314f6a9421128a6d8a1ce5": {
     "views": [
      {
       "cell_index": 2
      }
     ]
    },
    "53cc00bcec2a44e68e45a64bc57b0726": {
     "views": [
      {
       "cell_index": 2
      }
     ]
    },
    "5864aca566cf404c9816cdcfaed00db1": {
     "views": [
      {
       "cell_index": 2
      }
     ]
    },
    "5a26245e6d434ee4b17a46378169269c": {
     "views": [
      {
       "cell_index": 2
      }
     ]
    },
    "5d061ed1514e4841a71265cfa5d652a2": {
     "views": [
      {
       "cell_index": 2
      }
     ]
    },
    "5e019e789d8d4f4ba3a24a497784a2e1": {
     "views": [
      {
       "cell_index": 2
      }
     ]
    },
    "6d3eab06737642639babf71e904001c3": {
     "views": [
      {
       "cell_index": 2
      }
     ]
    },
    "709572ce0f21443cbf61ec0a83ca8c0e": {
     "views": [
      {
       "cell_index": 2
      }
     ]
    },
    "79cf5ba975794319a7ecbf0dea76b2bc": {
     "views": [
      {
       "cell_index": 2
      }
     ]
    },
    "8399f35401b7433da9779e789ac82678": {
     "views": [
      {
       "cell_index": 2
      }
     ]
    },
    "8599dd040331469da680eec9d28e3b0f": {
     "views": [
      {
       "cell_index": 2
      }
     ]
    },
    "9344610aaa6e4f2b8f596f3b993ce124": {
     "views": [
      {
       "cell_index": 2
      }
     ]
    },
    "a62ca589d40b42ac9b5899b46e746acc": {
     "views": [
      {
       "cell_index": 2
      }
     ]
    },
    "ad59a1d6e59a44db96e6c6d1f529b67d": {
     "views": [
      {
       "cell_index": 2
      }
     ]
    },
    "b1f130fb29d14de0bd544a63f7c800d8": {
     "views": [
      {
       "cell_index": 2
      }
     ]
    },
    "dfe101920490425eaf0bb28f0b0754ce": {
     "views": [
      {
       "cell_index": 2
      }
     ]
    },
    "e4ede8f2621b467b8c2ce0c90e37f3c3": {
     "views": [
      {
       "cell_index": 2
      }
     ]
    },
    "f3907b58039e49d089e08735f02a8e2a": {
     "views": [
      {
       "cell_index": 2
      }
     ]
    }
   },
   "version": "1.2.0"
  }
 },
 "nbformat": 4,
 "nbformat_minor": 2
}
