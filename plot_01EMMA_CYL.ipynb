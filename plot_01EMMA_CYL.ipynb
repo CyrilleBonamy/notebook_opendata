{
 "cells": [
  {
   "cell_type": "markdown",
   "metadata": {},
   "source": [
    "# This Python notbook generates interactive 2D velocity fields from 01EMMA_CYL experiments.\n",
    "\n",
    "Data are collected from the LEGI opendap server : **http://servdap.legi.grenoble-inp.fr/opendap/coriolis/01EMMA_CYL/**\n",
    "\n",
    "Plotting, data retrieving and interactive python functions used in this notebook are available in the file *func.py* in the root directory"
   ]
  },
  {
   "cell_type": "code",
   "execution_count": null,
   "metadata": {
    "scrolled": false
   },
   "outputs": [],
   "source": [
    "from func import *\n",
    "create_plot()"
   ]
  }
 ],
 "metadata": {
  "kernelspec": {
   "display_name": "Python 3",
   "language": "python",
   "name": "python3"
  },
  "language_info": {
   "codemirror_mode": {
    "name": "ipython",
    "version": 3
   },
   "file_extension": ".py",
   "mimetype": "text/x-python",
   "name": "python",
   "nbconvert_exporter": "python",
   "pygments_lexer": "ipython3",
   "version": "3.6.3"
  },
  "widgets": {
   "state": {
    "e16b34bce44842abba4465a0de5cdcde": {
     "views": [
      {
       "cell_index": 4
      }
     ]
    }
   },
   "version": "1.2.0"
  }
 },
 "nbformat": 4,
 "nbformat_minor": 2
}
