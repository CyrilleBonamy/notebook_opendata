{
 "cells": [
  {
   "cell_type": "markdown",
   "metadata": {
    "deletable": true,
    "editable": true
   },
   "source": [
    "# This Python notbook generates interactive 2D velocity fields from 01EMMA_CYL experiments.\n",
    "\n",
    "Data are collected from the LEGI opendap server : **http://servdap.legi.grenoble-inp.fr/opendap/coriolis/01EMMA_CYL/**\n",
    "\n",
    "Plotting, data retrieving and interactive python functions used in this notebook are available in the file *func_01emma_cyl.py* in the root directory"
   ]
  },
  {
   "cell_type": "code",
   "execution_count": null,
   "metadata": {
    "collapsed": true,
    "deletable": true,
    "editable": true,
    "scrolled": false
   },
   "outputs": [],
   "source": [
    "import func_01emma_cyl\n",
    "func_01emma_cyl.create_plot()"
   ]
  }
 ],
 "metadata": {
  "kernelspec": {
   "display_name": "Python 3",
   "language": "python",
   "name": "python3"
  },
  "language_info": {
   "codemirror_mode": {
    "name": "ipython",
    "version": 3
   },
   "file_extension": ".py",
   "mimetype": "text/x-python",
   "name": "python",
   "nbconvert_exporter": "python",
   "pygments_lexer": "ipython3",
   "version": "3.5.1"
  }
 },
 "nbformat": 4,
 "nbformat_minor": 2
}
