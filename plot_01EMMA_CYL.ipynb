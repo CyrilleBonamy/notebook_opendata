{
 "cells": [
  {
   "cell_type": "markdown",
   "metadata": {
    "deletable": true,
    "editable": true
   },
   "source": [
    "# Python script to plot data from 01EMMA_CYL"
   ]
  },
  {
   "cell_type": "code",
   "execution_count": null,
   "metadata": {
    "collapsed": true,
    "deletable": true,
    "editable": true,
    "scrolled": false
   },
   "outputs": [],
   "source": [
    "from netCDF4 import Dataset\n",
    "import requests\n",
    "from lxml import etree\n",
    "import numpy as np\n",
    "import matplotlib.pyplot as plt\n",
    "import ipywidgets as widget\n",
    "from IPython.display import display\n",
    "\n",
    "\n",
    "global loadedfiles\n",
    "loadedfiles = [[],[]]"
   ]
  },
  {
   "cell_type": "markdown",
   "metadata": {
    "deletable": true,
    "editable": true
   },
   "source": [
    "## plotting function"
   ]
  },
  {
   "cell_type": "code",
   "execution_count": null,
   "metadata": {
    "collapsed": false,
    "deletable": true,
    "editable": true
   },
   "outputs": [],
   "source": [
    "def plot_func(variable, rootgrp, vector):\n",
    "    fig_xsize = 15\n",
    "    fig_ysize = 10\n",
    "    font_size = 25\n",
    "    markersize = 10\n",
    "    fig = plt.figure(num=0, figsize=(fig_xsize, fig_ysize), dpi=60,\n",
    "                     facecolor='w', edgecolor='w')\n",
    "    plt.rcParams.update({'font.size': font_size})\n",
    "    plt.rcParams['lines.markersize'] = 10\n",
    "    xaxis_name = 'i'\n",
    "    yaxis_name = 'j'\n",
    "    xlin = np.linspace(0, 49, 50)\n",
    "    x, y = np.meshgrid(xlin, xlin)\n",
    "    plt.gca().set_aspect('equal')\n",
    "    plt.xlabel(xaxis_name)\n",
    "    plt.ylabel(yaxis_name)\n",
    "    contourcolor = plt.cm.coolwarm    \n",
    "    if variable == 'norm':\n",
    "        norm = np.sqrt(rootgrp.variables['u'][0, 0, :, :]**2 +\n",
    "                       rootgrp.variables['v'][0, 0, :, :]**2)\n",
    "        mycontour = plt.contourf(norm, 50, cmap=contourcolor)\n",
    "        cbar = plt.colorbar(mycontour)\n",
    "        cbar.ax.set_ylabel('norm (m/s)')\n",
    "    else:\n",
    "        varplot = rootgrp.variables[variable][0, 0, :, :]\n",
    "        mycontour = plt.contourf(varplot, 50, cmap=contourcolor)\n",
    "        cbar = plt.colorbar(mycontour)\n",
    "        cbar.ax.set_ylabel(rootgrp.variables[variable].name +\n",
    "                           \" (\" + rootgrp.variables[variable].units + \")\")\n",
    "    if vector:\n",
    "        plt.quiver(x, y, rootgrp.variables['u'][0, 0, :, :],\n",
    "                   rootgrp.variables['v'][0, 0, :, :])\n",
    "\n",
    "\n",
    "def g(folder, file, variable, vector):\n",
    "    url_base = 'http://servdap.legi.grenoble-inp.fr:80/opendap/coriolis/01EMMA_CYL/' + folder + '/'\n",
    "    catalog_file = requests.get(url_base + 'catalog.xml')\n",
    "    tree = etree.fromstring(catalog_file.content)\n",
    "    \n",
    "    files = []\n",
    "    for children in tree[2]:\n",
    "        if '.nc' in children.get(\"name\"):\n",
    "            files.append(children.get(\"name\"))\n",
    "    print(str(len(files)) + ' files in folder ' + folder)        \n",
    "    if file > len(files):\n",
    "        print('No file with number' + str(file))\n",
    "    else:\n",
    "        if files[file-1] in loadedfiles[0]:\n",
    "            rootgrp = loadedfiles[1][loadedfiles[0].index(files[file-1])]\n",
    "        else:\n",
    "            url = url_base + files[file-1]\n",
    "            rootgrp = Dataset(url)\n",
    "            loadedfiles[0].append(files[file-1])\n",
    "            loadedfiles[1].append(rootgrp)\n",
    "        plot_func(variable, rootgrp, vector)\n",
    "        plt.show()"
   ]
  },
  {
   "cell_type": "code",
   "execution_count": null,
   "metadata": {
    "collapsed": false,
    "deletable": true,
    "editable": true,
    "scrolled": false
   },
   "outputs": [],
   "source": [
    "base_url = 'http://servdap.legi.grenoble-inp.fr:80/opendap/coriolis/01EMMA_CYL/'\n",
    "catalog_file = requests.get(base_url + 'catalog.xml')\n",
    "tree = etree.fromstring(catalog_file.content)\n",
    "folders = []\n",
    "for children in tree[2]:\n",
    "    if not '.' in children.get('name'):\n",
    "        folders.append(children.get('name'))\n",
    "        \n",
    "\n",
    "widget.interact(g,\n",
    "                folder=widget.Select(options=folders,\n",
    "                                     description='Select a folder',\n",
    "                                     value='cc'\n",
    "                                    ),\n",
    "                file=widget.IntText(value=1,\n",
    "                                      description='Select a file number:',\n",
    "                                      ),\n",
    "                variable=widget.ToggleButtons(options=['u', 'v', 'norm'],\n",
    "                                              description='Variable:',\n",
    "                                              disabled=False,\n",
    "                                              button_style='',\n",
    "                                              ),\n",
    "                vector=widget.Checkbox(value=False,\n",
    "                                       description='Display vectors',\n",
    "                                       disabled=False\n",
    "                                      ),\n",
    "               );"
   ]
  }
 ],
 "metadata": {
  "kernelspec": {
   "display_name": "Python 3",
   "language": "python",
   "name": "python3"
  },
  "language_info": {
   "codemirror_mode": {
    "name": "ipython",
    "version": 3
   },
   "file_extension": ".py",
   "mimetype": "text/x-python",
   "name": "python",
   "nbconvert_exporter": "python",
   "pygments_lexer": "ipython3",
   "version": "3.5.1"
  },
  "widgets": {
   "state": {
    "02ba25fd7aae460fbd413b84d8a18ada": {
     "views": [
      {
       "cell_index": 4
      }
     ]
    },
    "0653e5bec9e34edebcbd2b854abfca09": {
     "views": [
      {
       "cell_index": 4
      }
     ]
    },
    "06842f6f5adf48a6bf3d0fde4ab24363": {
     "views": [
      {
       "cell_index": 4
      }
     ]
    },
    "12e3d9a5cf9541ad8653b8aee7eed717": {
     "views": [
      {
       "cell_index": 4
      }
     ]
    },
    "1b62e330e0274e7bb39ac3abc0b870c1": {
     "views": [
      {
       "cell_index": 4
      }
     ]
    },
    "1b9682f970a0433db3a1b5186553acc0": {
     "views": [
      {
       "cell_index": 4
      }
     ]
    },
    "1cf8276047a045c3addb6a561a742ba4": {
     "views": [
      {
       "cell_index": 4
      }
     ]
    },
    "1e317994101648539a5895b45e1b03a3": {
     "views": [
      {
       "cell_index": 4
      }
     ]
    },
    "231be034bfb546899c2af25753193031": {
     "views": [
      {
       "cell_index": 7
      }
     ]
    },
    "27c9caf0e5d24c789b8df1c093691219": {
     "views": [
      {
       "cell_index": 4
      }
     ]
    },
    "2d97ad95c4a04ffc807bc4fff9dbbaa8": {
     "views": [
      {
       "cell_index": 4
      }
     ]
    },
    "30e29b5471954cd1a746d432d08e0110": {
     "views": [
      {
       "cell_index": 4
      }
     ]
    },
    "3acebc1fc0f94d9c931d1d32c2d8bb75": {
     "views": [
      {
       "cell_index": 4
      }
     ]
    },
    "3b3d55024b73404489876f39a3daf3b1": {
     "views": [
      {
       "cell_index": 4
      }
     ]
    },
    "3c4e773cd9eb46b982848a113943b519": {
     "views": [
      {
       "cell_index": 4
      }
     ]
    },
    "3e90e775f8a24e30a2fa31b9e61d0901": {
     "views": [
      {
       "cell_index": 4
      }
     ]
    },
    "40148ac0c35b43a380a86d28919795a3": {
     "views": [
      {
       "cell_index": 4
      }
     ]
    },
    "41c1a4ee1f7d4f5f8aaf410649d7229c": {
     "views": [
      {
       "cell_index": 4
      }
     ]
    },
    "49e047c0dcd7498b8d2c86379a9fe243": {
     "views": [
      {
       "cell_index": 4
      }
     ]
    },
    "5493f961162943b881a0d8baac082ed3": {
     "views": [
      {
       "cell_index": 4
      }
     ]
    },
    "5655bfd825a344fe8c8c6447506087da": {
     "views": [
      {
       "cell_index": 4
      }
     ]
    },
    "5a746a28d0c94d498cd52553a872c9e6": {
     "views": [
      {
       "cell_index": 4
      }
     ]
    },
    "5cea5fdc6c524ddba61b3cbe551ca2bd": {
     "views": [
      {
       "cell_index": 4
      }
     ]
    },
    "662b79620ae64208ad8b488c658fd212": {
     "views": [
      {
       "cell_index": 4
      }
     ]
    },
    "67e07d3e462d4de28ba1d9a6344f79ff": {
     "views": [
      {
       "cell_index": 4
      }
     ]
    },
    "67e4eb80fc784f2c8381022925399694": {
     "views": [
      {
       "cell_index": 4
      }
     ]
    },
    "69495ccc031e4a6ca1ee6b3a6b2b3e93": {
     "views": [
      {
       "cell_index": 4
      }
     ]
    },
    "729293a9e11740649e92d9d256393de6": {
     "views": [
      {
       "cell_index": 4
      }
     ]
    },
    "7ce43a4b9b2348f894016a9245b64dc2": {
     "views": [
      {
       "cell_index": 4
      }
     ]
    },
    "7da1acaa167e45379c8e6ab88053b6b8": {
     "views": [
      {
       "cell_index": 4
      }
     ]
    },
    "831d42f9e8e74c9ea9664c52ad2fc55d": {
     "views": [
      {
       "cell_index": 4
      }
     ]
    },
    "851d2e445e5c4da79d8a0125410957ef": {
     "views": [
      {
       "cell_index": 4
      }
     ]
    },
    "885ce7d26f474200a718f0de2cbf30cb": {
     "views": [
      {
       "cell_index": 4
      }
     ]
    },
    "8b78b3876f8a4e40b0349f338386a386": {
     "views": [
      {
       "cell_index": 4
      }
     ]
    },
    "8dcea4e7f2894e89b3d8975e9991b65d": {
     "views": [
      {
       "cell_index": 7
      }
     ]
    },
    "8faaed0bd1cd466f8a1ccc977e900389": {
     "views": [
      {
       "cell_index": 4
      }
     ]
    },
    "915e684a420a44ab81e4d1cc61cd8cff": {
     "views": [
      {
       "cell_index": 7
      }
     ]
    },
    "94f8a920a2d24136bf571d4a55310563": {
     "views": [
      {
       "cell_index": 4
      }
     ]
    },
    "a127d271608045ba961dd272a4c5dad0": {
     "views": [
      {
       "cell_index": 4
      }
     ]
    },
    "a2097e0deefc4259a0b968eccf32a717": {
     "views": [
      {
       "cell_index": 4
      }
     ]
    },
    "aa3436e64cbd4aafa1c6e10cc9bc07ed": {
     "views": [
      {
       "cell_index": 4
      }
     ]
    },
    "ab58e9b90dbb412b9181d8ca8fca6fa3": {
     "views": [
      {
       "cell_index": 4
      }
     ]
    },
    "b07539b6398e4c6c883c128e9e20e831": {
     "views": [
      {
       "cell_index": 7
      }
     ]
    },
    "b107d25eb2ff462ab6d7b961a25d788f": {
     "views": [
      {
       "cell_index": 4
      }
     ]
    },
    "b40b94e690a849d9b50dd56db40e3e7e": {
     "views": [
      {
       "cell_index": 4
      }
     ]
    },
    "be481822c30642c7a3a023ba05b06a8e": {
     "views": [
      {
       "cell_index": 4
      }
     ]
    },
    "bf61ec24a7394fd186909a9c8d8c7f9a": {
     "views": [
      {
       "cell_index": 4
      }
     ]
    },
    "c0d89ebfdcf74c96b151d30104d4abe4": {
     "views": [
      {
       "cell_index": 4
      }
     ]
    },
    "d18cae14ee8d485082599be6e7ac7501": {
     "views": [
      {
       "cell_index": 4
      }
     ]
    },
    "d228bccd101a4e84b8ef7f3b6bbe05a9": {
     "views": [
      {
       "cell_index": 4
      }
     ]
    },
    "d5f783997ede45ceb698c31f94f6e687": {
     "views": [
      {
       "cell_index": 4
      }
     ]
    },
    "d6e1bccc545345d0aebf1dcf8fc8bbd4": {
     "views": [
      {
       "cell_index": 4
      }
     ]
    },
    "db0044820d60415d80eda67685d53524": {
     "views": [
      {
       "cell_index": 4
      }
     ]
    },
    "de983580f05d469f8d89ae008a27b0de": {
     "views": [
      {
       "cell_index": 4
      }
     ]
    },
    "e0e61b99ba3149f0ae8d7b5ce48e5ec4": {
     "views": [
      {
       "cell_index": 4
      }
     ]
    },
    "e7d85e560d0d4eb78dac982485367fd4": {
     "views": [
      {
       "cell_index": 4
      }
     ]
    },
    "ee36aef8b67744fa87c1923e14d39666": {
     "views": [
      {
       "cell_index": 4
      }
     ]
    },
    "f91c9a903baf4e3c90ef4a72e7148049": {
     "views": [
      {
       "cell_index": 4
      }
     ]
    }
   },
   "version": "1.2.0"
  }
 },
 "nbformat": 4,
 "nbformat_minor": 2
}
