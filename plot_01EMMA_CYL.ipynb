{
 "cells": [
  {
   "cell_type": "markdown",
   "metadata": {},
   "source": [
    "# Python script to plot data from 01EMMA_CYL"
   ]
  },
  {
   "cell_type": "code",
   "execution_count": 1,
   "metadata": {
    "collapsed": true,
    "scrolled": false
   },
   "outputs": [],
   "source": [
    "import matplotlib.pyplot as plt\n",
    "import matplotlib\n",
    "import numpy as np\n",
    "from netCDF4 import Dataset\n",
    "from __future__ import print_function\n",
    "from ipywidgets import interact, interactive, fixed, interact_manual\n",
    "import ipywidgets as widget\n",
    "import netCDF4\n",
    "\n"
   ]
  },
  {
   "cell_type": "markdown",
   "metadata": {},
   "source": [
    "## Choose a netyCDF file to read "
   ]
  },
  {
   "cell_type": "code",
   "execution_count": 5,
   "metadata": {
    "collapsed": true
   },
   "outputs": [],
   "source": [
    "file_name = 'cc_etat013.nc'\n",
    "\n",
    "url_base = 'http://servdap.legi.grenoble-inp.fr:80/opendap/coriolis/01EMMA_CYL/cc/'\n",
    "url = url_base + file_name\n",
    "\n",
    "rootgrp = Dataset(url)"
   ]
  },
  {
   "cell_type": "markdown",
   "metadata": {},
   "source": [
    "## plotting function"
   ]
  },
  {
   "cell_type": "code",
   "execution_count": 6,
   "metadata": {
    "collapsed": true
   },
   "outputs": [],
   "source": [
    "def g(variable, setcolorbar, varmax, varmin, vector):\n",
    "    fig_xsize = 15\n",
    "    fig_ysize = 10\n",
    "    font_size = 25\n",
    "    markersize = 10\n",
    "    fig = plt.figure(num=0, figsize=(fig_xsize, fig_ysize), dpi=60,\n",
    "                    facecolor='w', edgecolor='w')\n",
    "    xaxis_name = 'i' #'x' \" (\" + rootgrp.variables['xbrut1'].units + \")\"\n",
    "    yaxis_name = 'j' #'y' + \" (\" + rootgrp.variables['ybrut1'].units + \")\"\n",
    "    plt.rcParams.update({'font.size': font_size})\n",
    "    plt.rcParams['lines.markersize'] = 10\n",
    "    XX = np.linspace(0, 49, 50)\n",
    "    X = np.empty([50, 50])\n",
    "    Y = np.empty([50, 50])\n",
    "    X[0:50, :] = XX\n",
    "    Y = X.T\n",
    "    contourcolor = plt.cm.coolwarm\n",
    "    if vector:\n",
    "        norm = np.sqrt(rootgrp.variables['u'][0, 0, :, :]**2 + rootgrp.variables['v'][0, 0, :, :]**2)\n",
    "        if setcolorbar:\n",
    "            levels = np.linspace(varmin, varmax, 100)\n",
    "            mycontour = plt.contourf(norm, levels, cmap=contourcolor)\n",
    "        else:\n",
    "            mycontour = plt.contourf(norm, 100, cmap=contourcolor)\n",
    "        cbar = plt.colorbar(mycontour)\n",
    "        plt.quiver(X, Y, rootgrp.variables['u'][0, 0, :, :], rootgrp.variables['v'][0, 0, :, :])\n",
    "        cbar.ax.set_ylabel('Velocity (m/s)')\n",
    "    else:\n",
    "        varplot = rootgrp.variables[variable][0, 0, :, :]\n",
    "        if setcolorbar:\n",
    "            levels = np.linspace(varmin, varmax, 100)\n",
    "            mycontour = plt.contourf(varplot, levels, cmap=contourcolor)\n",
    "        else:\n",
    "            mycontour = plt.contourf(varplot, 100, cmap=contourcolor)\n",
    "        cbar = plt.colorbar(mycontour)\n",
    "        cbar.ax.set_ylabel(rootgrp.variables[variable].name + \" (\" + rootgrp.variables[variable].units + \")\")\n",
    "    plt.gca().set_aspect('equal')\n",
    "    #plt.ylim(ymin, ymax)\n",
    "    #plt.xlim(xmin, xmax)\n",
    "    plt.xlabel(xaxis_name)\n",
    "    plt.ylabel(yaxis_name)\n",
    "    plt.show()"
   ]
  },
  {
   "cell_type": "code",
   "execution_count": 7,
   "metadata": {},
   "outputs": [
    {
     "data": {
      "application/vnd.jupyter.widget-view+json": {
       "model_id": "ecaed605395e4ec4ab6969ff5aefcead",
       "version_major": 2,
       "version_minor": 0
      },
      "text/html": [
       "<p>Failed to display Jupyter Widget of type <code>interactive</code>.</p>\n",
       "<p>\n",
       "  If you're reading this message in the Jupyter Notebook or JupyterLab Notebook, it may mean\n",
       "  that the widgets JavaScript is still loading. If this message persists, it\n",
       "  likely means that the widgets JavaScript library is either not installed or\n",
       "  not enabled. See the <a href=\"https://ipywidgets.readthedocs.io/en/stable/user_install.html\">Jupyter\n",
       "  Widgets Documentation</a> for setup instructions.\n",
       "</p>\n",
       "<p>\n",
       "  If you're reading this message in another frontend (for example, a static\n",
       "  rendering on GitHub or <a href=\"https://nbviewer.jupyter.org/\">NBViewer</a>),\n",
       "  it may mean that your frontend doesn't currently support widgets.\n",
       "</p>\n"
      ],
      "text/plain": [
       "interactive(children=(Dropdown(description='variable', options=('u', 'v'), value='u'), Checkbox(value=False, description='setcolorbar'), FloatText(value=0.006, description='value max:', step=0.0001), FloatText(value=-0.006, description='value min:', step=0.0001), Checkbox(value=False, description='Display vectors'), Output()), _dom_classes=('widget-interact',))"
      ]
     },
     "metadata": {},
     "output_type": "display_data"
    }
   ],
   "source": [
    "var = []\n",
    "for i in rootgrp.variables.keys():\n",
    "    if np.shape(rootgrp.variables[i]) == (1, 2, 50, 50) and i != 'hauteur_de_couche':\n",
    "        var.append(i)\n",
    "\n",
    "interact(g, variable=var, setcolorbar= False, varmin=widget.FloatText(value=-0.006,step=0.0001,description='value min:',disabled=False), varmax=widget.FloatText(value=0.006,step=0.0001,description='value max:',disabled=False),vector=widget.Checkbox(value=False, description='Display vectors',disabled=False));"
   ]
  },
  {
   "cell_type": "code",
   "execution_count": null,
   "metadata": {
    "collapsed": true
   },
   "outputs": [],
   "source": []
  },
  {
   "cell_type": "code",
   "execution_count": null,
   "metadata": {
    "collapsed": true
   },
   "outputs": [],
   "source": []
  },
  {
   "cell_type": "code",
   "execution_count": null,
   "metadata": {
    "collapsed": true
   },
   "outputs": [],
   "source": []
  }
 ],
 "metadata": {
  "kernelspec": {
   "display_name": "Python 3",
   "language": "python",
   "name": "python3"
  },
  "language_info": {
   "codemirror_mode": {
    "name": "ipython",
    "version": 3
   },
   "file_extension": ".py",
   "mimetype": "text/x-python",
   "name": "python",
   "nbconvert_exporter": "python",
   "pygments_lexer": "ipython3",
   "version": "3.6.2"
  }
 },
 "nbformat": 4,
 "nbformat_minor": 2
}
